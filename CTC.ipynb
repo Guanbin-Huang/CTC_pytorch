{
 "cells": [
  {
   "cell_type": "markdown",
   "id": "21a0a7de-b5e4-4995-92d1-f3fbd60bb7ba",
   "metadata": {},
   "source": [
    "ref: https://medium.com/swlh/multi-digit-sequence-recognition-with-crnn-and-ctc-loss-using-pytorch-framework-269a7aca2a6"
   ]
  },
  {
   "cell_type": "code",
   "execution_count": 2,
   "id": "25d1967d-7aef-4089-ab32-170686d152a4",
   "metadata": {},
   "outputs": [],
   "source": [
    "def ctcloss_reference(log_probs, targets, input_lengths, target_lengths, blank=0, reduction='mean'):\n",
    "    input_lengths = torch.as_tensor(input_lengths, dtype=torch.long)\n",
    "    target_lengths = torch.as_tensor(target_lengths, dtype=torch.long)\n",
    "    dt = log_probs.dtype\n",
    "    log_probs = log_probs.double()  # we need the accuracy as we are not in logspace\n",
    "    targets = targets.long()\n",
    "    cum_target_lengths = target_lengths.cumsum(0)\n",
    "    losses = []\n",
    "    for i in range(log_probs.size(1)):\n",
    "        input_length = input_lengths[i].item()\n",
    "        target_length = target_lengths[i].item()\n",
    "        cum_target_length = cum_target_lengths[i].item()\n",
    "        targets_prime = targets.new_full((2 * target_length + 1,), blank)\n",
    "        if targets.dim() == 2:\n",
    "            targets_prime[1::2] = targets[i, :target_length]\n",
    "        else:\n",
    "            targets_prime[1::2] = targets[cum_target_length - target_length:cum_target_length]\n",
    "        probs = log_probs[:input_length, i].exp()\n",
    "        alpha = log_probs.new_zeros((target_length * 2 + 1,))\n",
    "        alpha[0] = probs[0, blank]\n",
    "        alpha[1] = probs[0, targets_prime[1]]\n",
    "        mask_third = (targets_prime[:-2] != targets_prime[2:])\n",
    "        for t in range(1, input_length):\n",
    "            alpha_next = alpha.clone()\n",
    "            alpha_next[1:] += alpha[:-1]\n",
    "            alpha_next[2:] += torch.where(mask_third, alpha[:-2], alpha.new_zeros(1))\n",
    "            alpha = probs[t, targets_prime] * alpha_next\n",
    "        losses.append(-alpha[-2:].sum().log()[None])\n",
    "    output = torch.cat(losses, 0)\n",
    "    if reduction == 'mean':\n",
    "        return (output / target_lengths.to(dtype=output.dtype, device=output.device)).mean()\n",
    "    elif reduction == 'sum':\n",
    "        return output.sum()\n",
    "    output = output.to(dt)\n",
    "    return output\n"
   ]
  },
  {
   "cell_type": "code",
   "execution_count": null,
   "id": "2f9e3a11-cb3c-4fc1-aa25-c902c913a904",
   "metadata": {},
   "outputs": [],
   "source": []
  }
 ],
 "metadata": {
  "kernelspec": {
   "display_name": "Python 3",
   "language": "python",
   "name": "python3"
  },
  "language_info": {
   "codemirror_mode": {
    "name": "ipython",
    "version": 3
   },
   "file_extension": ".py",
   "mimetype": "text/x-python",
   "name": "python",
   "nbconvert_exporter": "python",
   "pygments_lexer": "ipython3",
   "version": "3.8.8"
  }
 },
 "nbformat": 4,
 "nbformat_minor": 5
}
